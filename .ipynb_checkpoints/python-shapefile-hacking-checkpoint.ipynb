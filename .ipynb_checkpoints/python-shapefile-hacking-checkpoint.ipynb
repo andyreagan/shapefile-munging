{
 "cells": [
  {
   "cell_type": "code",
   "execution_count": 2,
   "metadata": {
    "collapsed": false
   },
   "outputs": [],
   "source": [
    "# load the first simple geometry\n",
    "import fiona\n",
    "from shapely.geometry import Point,Polygon"
   ]
  },
  {
   "cell_type": "code",
   "execution_count": 4,
   "metadata": {
    "collapsed": false
   },
   "outputs": [
    {
     "name": "stdout",
     "output_type": "stream",
     "text": [
      "POLYGON ((498780.0937000001 277479.4063000008, 498841.5 277137.1875, 498853.5779999997 277137.6761000007, 499004.5 277143.7813000008, 499005.7982999999 277137.2561000008, 499149.9062999999 276412.9686999992, 499165.2187999999 276335.9688000008, 499227.3437000001 276007.6875, 499229.0312000001 276001.375, 499233.25 276002.375, 499289.5312999999 275728.875, 499061.4375 274970.875, 498869.7275 274342.6297999993, 495516.9414999997 271843.1967999991, 495395.6562999999 271861.3125, 495183.5625 271684.4375, 495009.4687000001 271611.1563000008, 494551.4062999999 271360.75, 494453.6875 271244.6875, 494172.625 271209.2813000008, 494044.5625 271202.875, 493959.75 271193.2813000008, 493890.9062000001 271222.0938000008, 493822.0937000001 271246.0936999992, 493737.25 271274.9063000008, 493626.8125 271294.125, 493501.9687000001 271310.125, 493456.875 271279.9688000008, 493370.7812000001 271288.6561999992, 493176.9687000001 271265.5313000008, 493086.2812000001 271277.9686999992, 492242.6562000001 271461.5311999992, 492244.0312000001 271473.4686999992, 492223.7906999998 271453.0436000004, 492221.4687999999 271457.9688000008, 492216.9375 271467.3438000008, 492207 271489.0625, 492204.6875 271525.3125, 492193.6562999999 271553.6561999992, 492177.5 271586.125, 492155.75 271622.4063000008, 492139.1562000001 271662.6563000008, 492129.5312999999 271676.0938000008, 492114.75 271697.1563000008, 492100.3437999999 271716.9063000008, 492079.0312000001 271741.625, 492062.4062000001 271755.7811999992, 492042.1875 271774.5, 492014.875 271789.0938000008, 491992.3749000002 271801.9686999992, 491972.875 271811.6563000008, 491944.8125 271822.6875, 491913.0625999998 271836, 491866.9062000001 271849.5936999992, 491853.125 271858.3125, 491826.9062000001 271876.2188000008, 491798.2187000001 271889.1561999992, 491782.5 271900.5311999992, 491744.6874000002 271923.8436999992, 491724.2187000001 271940.1563000008, 491711.3124000002 271946.6875, 491697.8125 271952.0936999992, 491653.5 272651.25, 492892.7500999998 272728.9375, 493700.5625 272862.5311999992, 493713.4375 272592.1563000008, 493874.0937000001 272599.1875, 493946.6562999999 272751.9688000008, 494297.8125 272704, 494296.2812000001 272944.9063000008, 494926.4375 272984.2186999992, 494907.4687000001 273470.8436999992, 495071.7187000001 273483.4061999992, 495048.3437000001 273949.8436999992, 495028.6562999999 274487.9061999992, 493820.2187000001 274441.2186999992, 493806.7187999999 275000.625, 494202.4375 275013.75, 494207.3437999999 274947.375, 494331.125 274947.2811999992, 494451.9687999999 274938.6561999992, 494547.9062999999 274923.375, 494657.8125 274868.9688000008, 494734.3437000001 274831.375, 494728.375 275027.9375, 494996.4687999999 275041.3125, 494913.125 276648.9686999992, 495745.0625 276700.25, 495778.5937999999 275870.6249000002, 496179.5312000001 275885.1563000008, 496242.375 275453.3125, 496827.5 275481.6875, 496768.4375 276017.7499000002, 497012.125 276051.7499000002, 497006.4062000001 276110.4375999998, 497133.875 276126.125, 497140.5 276123.7188000008, 497190.9687000001 276071.75, 497271.625 276033.1561999992, 497347.2812999999 275998.9061999992, 497410.3125 275992.7188000008, 497473 275971.1563000008, 497537.0312000001 275968.8125, 497554.2187999999 275972.4063000008, 497605.4375 275516.3436999992, 498353.8125 275543.0625, 498231.1875 276337, 498059.0937000001 277450.9063000008, 498780.0937000001 277479.4063000008))\n"
     ]
    },
    {
     "data": {
      "text/plain": [
       "False"
      ]
     },
     "execution_count": 4,
     "metadata": {},
     "output_type": "execute_result"
    }
   ],
   "source": [
    "c = fiona.open('SA2012VT_External.shp','r')\n",
    "coordinates = []\n",
    "for city in list(c):\n",
    "    if city['geometry']['type'] == 'Polygon':\n",
    "        # print(city)\n",
    "        coordinates = city['geometry']['coordinates'][0]\n",
    "        break\n",
    "p = Polygon(coordinates)\n",
    "print(p)\n",
    "pt = Point([-97.58,27.94])\n",
    "p.contains(pt)"
   ]
  },
  {
   "cell_type": "code",
   "execution_count": 84,
   "metadata": {
    "collapsed": false
   },
   "outputs": [],
   "source": [
    "# load the first complex geometry\n",
    "import fiona\n",
    "from shapely.geometry import Point,Polygon,MultiPolygon\n",
    "c = fiona.open('shapefiles/cb_2013_us_ua10_500k.shp','r')\n",
    "coordinates = []\n",
    "for city in list(c):\n",
    "    if city['geometry']['type'] == 'MultiPolygon':\n",
    "        # print(city)\n",
    "        coordinates = city['geometry']['coordinates']\n",
    "        break\n",
    "# p = MultiPolygon(coordinates)\n",
    "# print(p)"
   ]
  },
  {
   "cell_type": "code",
   "execution_count": 85,
   "metadata": {
    "collapsed": false
   },
   "outputs": [
    {
     "name": "stdout",
     "output_type": "stream",
     "text": [
      "12\n",
      "1\n",
      "18\n",
      "1\n",
      "35\n",
      "1\n",
      "8\n",
      "1\n",
      "13\n",
      "1\n",
      "16\n",
      "1\n",
      "28\n",
      "1\n",
      "6\n",
      "1\n",
      "7\n",
      "1\n",
      "8\n",
      "1\n",
      "1370\n",
      "1\n",
      "235\n",
      "1\n",
      "24\n"
     ]
    }
   ],
   "source": [
    "print(len(coordinates))\n",
    "for c in coordinates:\n",
    "    print(len(c))\n",
    "    print(len(c[0]))\n",
    "# there are 12, length one lists\n",
    "# since the lists have length 1, I think this means\n",
    "# that there are no holes\n",
    "# and that these are 12 disjoint areas"
   ]
  },
  {
   "cell_type": "code",
   "execution_count": 86,
   "metadata": {
    "collapsed": false
   },
   "outputs": [],
   "source": [
    "# The MultiPolygon constructor takes a sequence of exterior ring\n",
    "# and hole list tuples: [((a1, ..., aM), [(b1, ..., bN), ...]), ...].\n",
    "exterior_ring = ((1,1),(0,1),(0,0),(1,0))\n",
    "interior_hole1 = ((.3,.3),(.1,3),(.1,.1),(.3,.1))\n",
    "interior_hole2 = ((.9,.9),(.7,9),(.7,.7),(.9,.7))\n",
    "p = MultiPolygon([(exterior_ring,[interior_hole1,interior_hole2]),(exterior_ring,[])])"
   ]
  },
  {
   "cell_type": "code",
   "execution_count": 87,
   "metadata": {
    "collapsed": false
   },
   "outputs": [
    {
     "name": "stdout",
     "output_type": "stream",
     "text": [
      "nope\n"
     ]
    }
   ],
   "source": [
    "try:\n",
    "    p = MultiPolygon(coordinates)\n",
    "except:\n",
    "    print('nope')"
   ]
  },
  {
   "cell_type": "code",
   "execution_count": 88,
   "metadata": {
    "collapsed": false
   },
   "outputs": [],
   "source": [
    "coordinates_w_empty_holes = [(tuple(c[0]),()) for c in coordinates]"
   ]
  },
  {
   "cell_type": "code",
   "execution_count": 89,
   "metadata": {
    "collapsed": false
   },
   "outputs": [],
   "source": [
    "p = MultiPolygon(coordinates_w_empty_holes)"
   ]
  },
  {
   "cell_type": "code",
   "execution_count": 90,
   "metadata": {
    "collapsed": false
   },
   "outputs": [
    {
     "data": {
      "text/plain": [
       "False"
      ]
     },
     "execution_count": 90,
     "metadata": {},
     "output_type": "execute_result"
    }
   ],
   "source": [
    "pt = Point([-97.58,27.94])\n",
    "p.contains(pt)"
   ]
  },
  {
   "cell_type": "code",
   "execution_count": 91,
   "metadata": {
    "collapsed": false
   },
   "outputs": [
    {
     "name": "stdout",
     "output_type": "stream",
     "text": [
      "done\n"
     ]
    }
   ],
   "source": [
    "# load all of the geometries\n",
    "import fiona\n",
    "from shapely.geometry import Point,Polygon,MultiPolygon\n",
    "c = fiona.open('shapefiles/cb_2013_us_ua10_500k.shp','r')\n",
    "polygonList = []\n",
    "nameList = []\n",
    "polygonCount = 0\n",
    "multiPolygonCount = 0\n",
    "for city in list(c):\n",
    "    nameList.append(city['properties']['NAME10'])\n",
    "    if city['geometry']['type'] == 'Polygon':\n",
    "        polygonCount += 1\n",
    "        # print(city)\n",
    "        coordinates = city['geometry']['coordinates']\n",
    "        polygonList.append(Polygon(coordinates[0]))\n",
    "    elif city['geometry']['type'] == 'MultiPolygon':\n",
    "        multiPolygonCount += 1\n",
    "        coordinates = city['geometry']['coordinates']\n",
    "        # check that there aren't any holes:\n",
    "        # for c in coordinates:\n",
    "            # if len(c) != 1:\n",
    "                # print('{0} has holes...in different area codes'.format(city['properties']['NAME10']))\n",
    "                # print(c)\n",
    "        coordinates_w_holes = [(tuple(c[0]),()) if len(c) == 1 else (tuple(c[0]),(c[1:])) for c in coordinates]\n",
    "        polygonList.append(MultiPolygon(coordinates_w_holes))\n",
    "    else:\n",
    "        print('unknown geometry ' % city['geometry']['type'])\n",
    "# p = MultiPolygon(coordinates)\n",
    "# print(p)\n",
    "print('done')"
   ]
  },
  {
   "cell_type": "code",
   "execution_count": 92,
   "metadata": {
    "collapsed": false
   },
   "outputs": [
    {
     "name": "stdout",
     "output_type": "stream",
     "text": [
      "1289\n",
      "2312\n"
     ]
    }
   ],
   "source": [
    "print(polygonCount)\n",
    "print(multiPolygonCount)"
   ]
  },
  {
   "cell_type": "code",
   "execution_count": 93,
   "metadata": {
    "collapsed": false
   },
   "outputs": [
    {
     "name": "stdout",
     "output_type": "stream",
     "text": [
      "22\n",
      "Odem, TX\n"
     ]
    }
   ],
   "source": [
    "pt = Point([-97.58,27.94])\n",
    "for i,city in enumerate(polygonList):\n",
    "    if city.contains(pt):\n",
    "        print(i)\n",
    "        print(nameList[i])\n",
    "        break"
   ]
  },
  {
   "cell_type": "code",
   "execution_count": 94,
   "metadata": {
    "collapsed": false
   },
   "outputs": [],
   "source": [
    "def cityID(polygonList,pt):\n",
    "    for i,city in enumerate(polygonList):\n",
    "        if city.contains(pt):\n",
    "            return i\n",
    "    return -1"
   ]
  },
  {
   "cell_type": "code",
   "execution_count": 95,
   "metadata": {
    "collapsed": false
   },
   "outputs": [],
   "source": [
    "locID = cityID(polygonList,pt)"
   ]
  },
  {
   "cell_type": "code",
   "execution_count": 96,
   "metadata": {
    "collapsed": false
   },
   "outputs": [
    {
     "name": "stdout",
     "output_type": "stream",
     "text": [
      "not found\n",
      "not found\n",
      "not found\n",
      "not found\n",
      "not found\n",
      "Miami, FL\n",
      "Lake Placid, NY\n",
      "Boston, MA--NH--RI\n",
      "not found\n",
      "San Diego, CA\n"
     ]
    }
   ],
   "source": [
    "import json\n",
    "f = open('testfiles/test.json','r')\n",
    "for line in f:\n",
    "    tweet = json.loads(line)\n",
    "    # print(tweet['coordinates']['coordinates'])\n",
    "    pt = Point(tweet['coordinates']['coordinates'])\n",
    "    loc = cityID(polygonList,pt)\n",
    "    if loc > -1:\n",
    "        print(nameList[loc])\n",
    "    else:\n",
    "        print('not found')"
   ]
  },
  {
   "cell_type": "code",
   "execution_count": 96,
   "metadata": {
    "collapsed": false
   },
   "outputs": [],
   "source": []
  }
 ],
 "metadata": {
  "kernelspec": {
   "display_name": "Python 2",
   "language": "python",
   "name": "python2"
  },
  "language_info": {
   "codemirror_mode": {
    "name": "ipython",
    "version": 2
   },
   "file_extension": ".py",
   "mimetype": "text/x-python",
   "name": "python",
   "nbconvert_exporter": "python",
   "pygments_lexer": "ipython2",
   "version": "2.7.10"
  }
 },
 "nbformat": 4,
 "nbformat_minor": 0
}
